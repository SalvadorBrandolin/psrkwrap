{
 "cells": [
  {
   "cell_type": "code",
   "execution_count": 1,
   "metadata": {},
   "outputs": [
    {
     "name": "stderr",
     "output_type": "stream",
     "text": [
      "\u001b[33m\u001b[1m┌ \u001b[22m\u001b[39m\u001b[33m\u001b[1mWarning: \u001b[22m\u001b[39mReplacing docs for `Roots.Roots :: Union{}` in module `Roots`\n",
      "\u001b[33m\u001b[1m└ \u001b[22m\u001b[39m\u001b[90m@ Base.Docs docs/Docs.jl:243\u001b[39m\n"
     ]
    }
   ],
   "source": [
    "import numpy as np\n",
    "\n",
    "import psrk"
   ]
  },
  {
   "cell_type": "code",
   "execution_count": 2,
   "metadata": {},
   "outputs": [
    {
     "name": "stdout",
     "output_type": "stream",
     "text": [
      "[[2.17174406e-05 1.82633376e-01 8.16951301e-01 3.64249845e-04\n",
      "  2.93551508e-05]\n",
      " [1.94171317e-02 1.00367527e-03 7.42792961e-02 8.99745099e-01\n",
      "  5.55479805e-03]]\n",
      "3.364708069293469\n",
      "[2.06437651e+03 1.00323173e+00 1.00101808e+00 2.50887156e+03\n",
      " 1.15134093e+03]\n",
      "[  2.30893908 182.55266789  11.00956882   1.0156833    6.08443123]\n"
     ]
    }
   ],
   "source": [
    "model = psrk.PSRK(\n",
    "    [\n",
    "        \"octanoic acid\",\n",
    "        \"hydrogen peroxide\",\n",
    "        \"water\",\n",
    "        \"diisopropyl ether\",\n",
    "        \"peroctanoic acid\",\n",
    "    ]\n",
    ")\n",
    "\n",
    "z = np.array([0.0169607, 0.0240071, 0.1683388, 0.7858384, 0.0048550])\n",
    "sum_z = np.sum(z)\n",
    "z = z / sum_z\n",
    "\n",
    "x0 = [0.000001, 0.3, 0.7, 0.000001, 0.000001]\n",
    "y0 = [0.02, 0.00003, 0.00001, 0.8, 0.06]\n",
    "\n",
    "\n",
    "flash = model.tp_flash(101325, 303.15, z, x0, y0)[0]\n",
    "\n",
    "actividades_x = model.activity(101325, 303.15, flash[0])[0]\n",
    "actividades_y = model.activity(101325, 303.15, flash[1])[0]\n",
    "\n",
    "\n",
    "Q = (actividades_y[-1] * actividades_y[2]) / (\n",
    "    actividades_y[0] * actividades_y[1]\n",
    ")\n",
    "\n",
    "print(flash)\n",
    "\n",
    "print(Q)\n",
    "\n",
    "print(model.activity(101325, 303.15, flash[0])[1])\n",
    "print(model.activity(101325, 303.15, flash[1])[1])"
   ]
  },
  {
   "cell_type": "code",
   "execution_count": 3,
   "metadata": {},
   "outputs": [
    {
     "name": "stdout",
     "output_type": "stream",
     "text": [
      "2.363624154769142\n",
      "[[1.50292941e-05 1.21706474e-01 8.78095226e-01 1.74151835e-04\n",
      "  9.11872717e-06]\n",
      " [1.53044525e-02 2.56771925e-04 2.56847150e-03 9.76661126e-01\n",
      "  5.20917813e-03]]\n",
      "[0.04835532 0.12212038 0.87884611 0.97911764 0.01588174]\n",
      "[0.04835532 0.12212038 0.87884611 0.97911764 0.01588174]\n"
     ]
    }
   ],
   "source": [
    "model = psrk.PSRK(\n",
    "    [\n",
    "        \"octanoic acid\",\n",
    "        \"hydrogen peroxide\",\n",
    "        \"water\",\n",
    "        \"toluene\",\n",
    "        \"peroctanoic acid\",\n",
    "    ]\n",
    ")\n",
    "\n",
    "z = np.array([0.0129929, 0.0186183, 0.1349361, 0.8290296, 0.0044230])\n",
    "sum_z = np.sum(z)\n",
    "z = z / sum_z\n",
    "\n",
    "x0 = [0.000001, 0.3, 0.7, 0.000001, 0.000001]\n",
    "y0 = [0.02, 0.00003, 0.00001, 0.8, 0.06]\n",
    "\n",
    "\n",
    "flash = model.tp_flash(101325, 303.15, z, x0, y0)[0]\n",
    "\n",
    "actividades_x = model.activity(101325, 303.15, flash[0])[0]\n",
    "actividades_y = model.activity(101325, 303.15, flash[1])[0]\n",
    "\n",
    "\n",
    "Q = (actividades_y[-1] * actividades_y[2]) / (\n",
    "    actividades_y[0] * actividades_y[1]\n",
    ")\n",
    "\n",
    "print(Q)\n",
    "\n",
    "print(flash)\n",
    "print(actividades_x)\n",
    "print(actividades_y)"
   ]
  },
  {
   "cell_type": "code",
   "execution_count": 4,
   "metadata": {},
   "outputs": [
    {
     "name": "stdout",
     "output_type": "stream",
     "text": [
      "2.1548575328809156\n",
      "[[4.14198791e-05 1.42281535e-01 8.57546988e-01 1.02904390e-04\n",
      "  2.71529862e-05]\n",
      " [2.31823466e-02 5.19063121e-05 2.12381385e-03 9.72671023e-01\n",
      "  1.97091067e-03]]\n",
      "[0.11445605 0.14281536 0.85826245 0.97667372 0.04104045]\n",
      "[0.11445605 0.14281536 0.85826245 0.97667372 0.04104045]\n"
     ]
    }
   ],
   "source": [
    "model = psrk.PSRK(\n",
    "    [\n",
    "        \"octanoic acid\",\n",
    "        \"hydrogen peroxide\",\n",
    "        \"water\",\n",
    "        \"hexane\",\n",
    "        \"peroctanoic acid\",\n",
    "    ]\n",
    ")\n",
    "\n",
    "z = np.array([0.0190130, 0.0256777, 0.1562471, 0.7974415, 0.0016207])\n",
    "sum_z = np.sum(z)\n",
    "z = z / sum_z\n",
    "\n",
    "x0 = [0.000001, 0.3, 0.7, 0.000001, 0.000001]\n",
    "y0 = [0.02, 0.00003, 0.00001, 0.8, 0.06]\n",
    "\n",
    "\n",
    "flash = model.tp_flash(101325, 303.15, z, x0, y0)[0]\n",
    "\n",
    "actividades_x = model.activity(101325, 303.15, flash[0])[0]\n",
    "actividades_y = model.activity(101325, 303.15, flash[1])[0]\n",
    "\n",
    "\n",
    "Q = (actividades_y[-1] * actividades_y[2]) / (\n",
    "    actividades_y[0] * actividades_y[1]\n",
    ")\n",
    "\n",
    "print(Q)\n",
    "\n",
    "print(flash)\n",
    "print(actividades_x)\n",
    "print(actividades_y)"
   ]
  },
  {
   "cell_type": "code",
   "execution_count": 5,
   "metadata": {},
   "outputs": [
    {
     "name": "stdout",
     "output_type": "stream",
     "text": [
      "1.8844192718924986\n",
      "[[4.17554188e-05 1.43602964e-01 8.56301332e-01 2.97617971e-05\n",
      "  2.41874437e-05]\n",
      " [2.62391926e-02 4.84225798e-05 1.99129002e-03 9.69888608e-01\n",
      "  1.83248684e-03]]\n",
      "[0.11481396 0.14419288 0.85696561 0.97387155 0.0364043 ]\n",
      "[0.11481396 0.14419288 0.85696561 0.97387155 0.0364043 ]\n"
     ]
    }
   ],
   "source": [
    "model = psrk.PSRK(\n",
    "    [\n",
    "        \"octanoic acid\",\n",
    "        \"hydrogen peroxide\",\n",
    "        \"water\",\n",
    "        \"heptane\",\n",
    "        \"peroctanoic acid\",\n",
    "    ]\n",
    ")\n",
    "\n",
    "z = np.array([0.0210732, 0.0283566, 0.1704566, 0.7786377, 0.0014759])\n",
    "sum_z = np.sum(z)\n",
    "z = z / sum_z\n",
    "\n",
    "x0 = [0.000001, 0.3, 0.7, 0.000001, 0.000001]\n",
    "y0 = [0.02, 0.00003, 0.00001, 0.8, 0.06]\n",
    "\n",
    "\n",
    "flash = model.tp_flash(101325, 303.15, z, x0, y0)[0]\n",
    "\n",
    "actividades_x = model.activity(101325, 303.15, flash[0])[0]\n",
    "actividades_y = model.activity(101325, 303.15, flash[1])[0]\n",
    "\n",
    "\n",
    "Q = (actividades_y[-1] * actividades_y[2]) / (\n",
    "    actividades_y[0] * actividades_y[1]\n",
    ")\n",
    "\n",
    "print(Q)\n",
    "\n",
    "print(flash)\n",
    "print(actividades_x)\n",
    "print(actividades_y)"
   ]
  },
  {
   "attachments": {},
   "cell_type": "markdown",
   "metadata": {},
   "source": [
    "# Acetico"
   ]
  },
  {
   "cell_type": "code",
   "execution_count": 6,
   "metadata": {},
   "outputs": [
    {
     "name": "stdout",
     "output_type": "stream",
     "text": [
      "1.6146320942627443\n",
      "[[2.58065882e-02 1.92390280e-01 7.71379527e-01 6.59935219e-04\n",
      "  9.76366908e-03]\n",
      " [1.85710484e-02 9.43081906e-04 6.92569132e-02 9.10491645e-01\n",
      "  7.37311070e-04]]\n",
      "[0.06263019 0.18717229 0.78114074 0.92165079 0.0242309 ]\n",
      "[0.06263019 0.18717229 0.78114074 0.92165079 0.0242309 ]\n"
     ]
    }
   ],
   "source": [
    "model = psrk.PSRK(\n",
    "    [\n",
    "        \"acetic acid\",\n",
    "        \"hydrogen peroxide\",\n",
    "        \"water\",\n",
    "        \"diisopropyl ether\",\n",
    "        \"peracetic acid\",\n",
    "    ]\n",
    ")\n",
    "\n",
    "z = np.array([0.0195359228298132,\t0.0264729672359217,\t0.162886435988305,\t0.789163679109803,\t0.00194099483615746])\n",
    "sum_z = np.sum(z)\n",
    "z = z / sum_z\n",
    "\n",
    "x0 = [0.01, 0.3, 0.7, 0.01, 0.01]\n",
    "y0 = [0.02, 0.03, 0.01, 0.8, 0.06]\n",
    "\n",
    "\n",
    "flash = model.tp_flash(101325, 303.15, z, x0, y0)[0]\n",
    "\n",
    "actividades_x = model.activity(101325, 303.15, flash[0])[0]\n",
    "actividades_y = model.activity(101325, 303.15, flash[1])[0]\n",
    "\n",
    "\n",
    "Q = (actividades_y[-1] * actividades_y[2]) / (\n",
    "    actividades_y[0] * actividades_y[1]\n",
    ")\n",
    "\n",
    "print(Q)\n",
    "\n",
    "print(flash)\n",
    "print(actividades_x)\n",
    "print(actividades_y)"
   ]
  },
  {
   "cell_type": "code",
   "execution_count": 7,
   "metadata": {},
   "outputs": [
    {
     "name": "stdout",
     "output_type": "stream",
     "text": [
      "2.73025688641855\n",
      "[[2.60092794e-02 1.25378114e-01 8.37810402e-01 3.48977742e-04\n",
      "  1.04532268e-02]\n",
      " [1.18734831e-02 2.33601359e-04 2.17379704e-03 9.83999619e-01\n",
      "  1.71949924e-03]]\n",
      "[0.06903899 0.12052176 0.84743687 0.98536714 0.02680749]\n",
      "[0.06903899 0.12052176 0.84743687 0.98536714 0.02680749]\n"
     ]
    }
   ],
   "source": [
    "model = psrk.PSRK(\n",
    "    [\n",
    "        \"acetic acid\",\n",
    "        \"hydrogen peroxide\",\n",
    "        \"water\",\n",
    "        \"toluene\",\n",
    "        \"peracetic acid\",\n",
    "    ]\n",
    ")\n",
    "\n",
    "z = np.array([0.0140603062530234,\t0.0195935942818186,\t0.131447693284074,\t0.831827789744339,\t0.00307061643674482])\n",
    "sum_z = np.sum(z)\n",
    "z = z / sum_z\n",
    "\n",
    "x0 = [0.01, 0.3, 0.7, 0.01, 0.01]\n",
    "y0 = [0.02, 0.03, 0.01, 0.8, 0.06]\n",
    "\n",
    "\n",
    "flash = model.tp_flash(101325, 303.15, z, x0, y0)[0]\n",
    "\n",
    "actividades_x = model.activity(101325, 303.15, flash[0])[0]\n",
    "actividades_y = model.activity(101325, 303.15, flash[1])[0]\n",
    "\n",
    "\n",
    "Q = (actividades_y[-1] * actividades_y[2]) / (\n",
    "    actividades_y[0] * actividades_y[1]\n",
    ")\n",
    "\n",
    "print(Q)\n",
    "\n",
    "print(flash)\n",
    "print(actividades_x)\n",
    "print(actividades_y)"
   ]
  },
  {
   "cell_type": "code",
   "execution_count": 8,
   "metadata": {},
   "outputs": [
    {
     "name": "stdout",
     "output_type": "stream",
     "text": [
      "[0.10605594 0.11720482 0.83488693 0.98755218 0.03061963]\n",
      "[0.10605594 0.11720482 0.83488693 0.98755219 0.03061963]\n",
      "2.0565874200394525\n"
     ]
    }
   ],
   "source": [
    "model = psrk.PSRK(\n",
    "    [\n",
    "        \"acetic acid\",\n",
    "        \"hydrogen peroxide\",\n",
    "        \"water\",\n",
    "        \"hexane\",\n",
    "        \"peracetic acid\",\n",
    "    ]\n",
    ")\n",
    "\n",
    "z = np.array([0.0177465,\t0.0234097,\t0.1556298,\t0.8005457,\t0.0026682])\n",
    "sum_z = np.sum(z)\n",
    "z = z / sum_z\n",
    "\n",
    "x0 = [0.01, 0.3, 0.7, 0.01, 0.01]\n",
    "y0 = [0.02, 0.03, 0.01, 0.8, 0.06]\n",
    "\n",
    "\n",
    "flash = model.tp_flash(101325, 303.15, z, x0, y0)[0]\n",
    "\n",
    "actividades_x = model.activity(101325, 303.15, flash[0])[0]\n",
    "actividades_y = model.activity(101325, 303.15, flash[1])[0]\n",
    "\n",
    "\n",
    "Q = (actividades_y[-1] * actividades_y[2]) / (\n",
    "    actividades_y[0] * actividades_y[1]\n",
    ")\n",
    "\n",
    "print(actividades_x)\n",
    "print(actividades_y)\n",
    "\n",
    "print(Q)\n"
   ]
  },
  {
   "cell_type": "code",
   "execution_count": 9,
   "metadata": {},
   "outputs": [
    {
     "name": "stdout",
     "output_type": "stream",
     "text": [
      "2.118625637321329\n",
      "[[4.48686725e-02 1.03146107e-01 8.40134622e-01 6.33797464e-05\n",
      "  1.17872192e-02]\n",
      " [1.30798037e-02 2.26470386e-05 1.35243550e-03 9.85381942e-01\n",
      "  1.63171892e-04]]\n",
      "[0.11391375 0.09684311 0.85529902 0.98640975 0.02732632]\n",
      "[0.11391375 0.09684311 0.85529902 0.98640975 0.02732632]\n"
     ]
    }
   ],
   "source": [
    "model = psrk.PSRK(\n",
    "    [\n",
    "        \"acetic acid\",\n",
    "        \"hydrogen peroxide\",\n",
    "        \"water\",\n",
    "        \"heptane\",\n",
    "        \"peracetic acid\",\n",
    "    ]\n",
    ")\n",
    "\n",
    "z = np.array([0.019640,\t0.021304,\t0.174450,\t0.782044,\t0.002562])\n",
    "sum_z = np.sum(z)\n",
    "z = z / sum_z\n",
    "\n",
    "x0 = [0.01, 0.3, 0.7, 0.01, 0.01]\n",
    "y0 = [0.02, 0.03, 0.01, 0.8, 0.06]\n",
    "\n",
    "\n",
    "flash = model.tp_flash(101325, 303.15, z, x0, y0)[0]\n",
    "\n",
    "actividades_x = model.activity(101325, 303.15, flash[0])[0]\n",
    "actividades_y = model.activity(101325, 303.15, flash[1])[0]\n",
    "\n",
    "\n",
    "Q = (actividades_y[-1] * actividades_y[2]) / (\n",
    "    actividades_y[0] * actividades_y[1]\n",
    ")\n",
    "\n",
    "print(Q)\n",
    "\n",
    "print(flash)\n",
    "print(actividades_x)\n",
    "print(actividades_y)\n"
   ]
  }
 ],
 "metadata": {
  "kernelspec": {
   "display_name": "psrk",
   "language": "python",
   "name": "python3"
  },
  "language_info": {
   "codemirror_mode": {
    "name": "ipython",
    "version": 3
   },
   "file_extension": ".py",
   "mimetype": "text/x-python",
   "name": "python",
   "nbconvert_exporter": "python",
   "pygments_lexer": "ipython3",
   "version": "3.10.12"
  },
  "orig_nbformat": 4,
  "vscode": {
   "interpreter": {
    "hash": "5af3779ad8dc1b55a7dd8172a1d581f600c186d1a68bc174b0c5adb42468765a"
   }
  }
 },
 "nbformat": 4,
 "nbformat_minor": 2
}
