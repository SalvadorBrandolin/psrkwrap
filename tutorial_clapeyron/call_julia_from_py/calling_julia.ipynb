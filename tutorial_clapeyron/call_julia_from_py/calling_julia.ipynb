{
 "cells": [
  {
   "attachments": {},
   "cell_type": "markdown",
   "metadata": {},
   "source": [
    "### Calling Julia from Python\n",
    "\n",
    "We are following the tutorial at: [https://blog.esciencecenter.nl/how-to-call-julia-code-from-python-8589a56a98f2](https://blog.esciencecenter.nl/how-to-call-julia-code-from-python-8589a56a98f2)\n",
    "I printed the page in this [file](/tutorial_clapeyron/call_julia_from_py/tutorial%20instalacion.pdf) in case the link becomes unavailable.\n",
    "\n",
    "Nevertheless, I will transcribe the most important things just in case the link dies.\n",
    "\n",
    "Prerequisites:\n",
    "\n",
    "1 - Python distribution compiled with the shared libpython option. There are workarounds, but this is the most straightforward way.\n",
    "\n",
    "2 - Julia, the executable that runs the Julia language.\n",
    "\n",
    "3 - [PyCall](https://github.com/JuliaPy/PyCall.jl), the Julia package that defines the conversions between Julia and Python.\n",
    "    import Pkg; Pkg.add(\"PyCall\")\n",
    "\n",
    "4 - PyJulia, the Python package to access Julia from Python.\n",
    "    pip install julia\n",
    "\n",
    "It is necessary to create a virtual Julia image from the virtual environment:\n",
    "\n",
    "python3 -m julia.sysimage sys.so\n",
    "\n",
    "This will create a sys.so folder in the user directory.\n",
    "\n",
    "NOTE: If anything in Julia is modified, e.g., adding a package or changing the version of Julia, it is necessary to create sys.so again.\n",
    "\n",
    "Then, to use Julia from Python,"
   ]
  },
  {
   "cell_type": "code",
   "execution_count": 16,
   "metadata": {},
   "outputs": [],
   "source": [
    "from julia import Julia\n",
    "\n",
    "# jl = Julia(sysimage=\"/home/salvador/sys.so\")\n",
    "jl = Julia(sysimage=\"../../psrk/sys.so\")"
   ]
  },
  {
   "attachments": {},
   "cell_type": "markdown",
   "metadata": {},
   "source": [
    "The above commands will need to be executed in each session where Julia is \n",
    "called; otherwise, PyCall will panic and not know what to do."
   ]
  },
  {
   "cell_type": "code",
   "execution_count": 17,
   "metadata": {},
   "outputs": [
    {
     "data": {
      "text/plain": [
       "<PyCall.jlwrap `/home/salvadorbrandolin/.virtualenvs/psrk/bin/julia-py -Cnative -J/home/salvadorbrandolin/phdpsrk/psrk/sys.so -g1`>"
      ]
     },
     "execution_count": 17,
     "metadata": {},
     "output_type": "execute_result"
    }
   ],
   "source": [
    "# >>> from julia import Base\n",
    "# >>> Base.julia_cmd()\n",
    "# out: <PyCall.jlwrap `/PATH/TO/bin/julia-py -Cnative -J/PATH/TO/sys.so -g1`>\n",
    "\n",
    "from julia import Base\n",
    "\n",
    "Base.julia_cmd()"
   ]
  },
  {
   "cell_type": "code",
   "execution_count": 18,
   "metadata": {},
   "outputs": [
    {
     "data": {
      "text/plain": [
       "array([ 0,  1,  4,  9, 16], dtype=int64)"
      ]
     },
     "execution_count": 18,
     "metadata": {},
     "output_type": "execute_result"
    }
   ],
   "source": [
    "from julia import Main\n",
    "\n",
    "Main.eval(\"[x^2 for x in 0:4]\")"
   ]
  },
  {
   "cell_type": "code",
   "execution_count": 19,
   "metadata": {},
   "outputs": [
    {
     "data": {
      "text/plain": [
       "array([ 0,  1,  4,  9, 16], dtype=int64)"
      ]
     },
     "execution_count": 19,
     "metadata": {},
     "output_type": "execute_result"
    }
   ],
   "source": [
    "vector = Main.eval(\"[x^2 for x in 0:4]\")\n",
    "\n",
    "vector"
   ]
  },
  {
   "cell_type": "code",
   "execution_count": 20,
   "metadata": {},
   "outputs": [],
   "source": [
    "Main.vector = Main.eval(\"[x^2 for x in 0:4]\")"
   ]
  },
  {
   "cell_type": "code",
   "execution_count": 21,
   "metadata": {},
   "outputs": [
    {
     "data": {
      "text/plain": [
       "array([ 0,  1,  4,  9, 16], dtype=int64)"
      ]
     },
     "execution_count": 21,
     "metadata": {},
     "output_type": "execute_result"
    }
   ],
   "source": [
    "Main.vector"
   ]
  },
  {
   "attachments": {},
   "cell_type": "markdown",
   "metadata": {},
   "source": [
    "Importing Clapeyron in Python"
   ]
  },
  {
   "cell_type": "code",
   "execution_count": 22,
   "metadata": {},
   "outputs": [],
   "source": [
    "from julia import Clapeyron as cp"
   ]
  },
  {
   "cell_type": "code",
   "execution_count": 23,
   "metadata": {},
   "outputs": [],
   "source": [
    "model1 = cp.PR([\"methane\"])"
   ]
  },
  {
   "cell_type": "code",
   "execution_count": 24,
   "metadata": {},
   "outputs": [
    {
     "data": {
      "text/plain": [
       "2779.0299445029295"
      ]
     },
     "execution_count": 24,
     "metadata": {},
     "output_type": "execute_result"
    }
   ],
   "source": [
    "vol = cp.volume(model1, 303.15, 101325)\n",
    "\n",
    "vol"
   ]
  },
  {
   "attachments": {},
   "cell_type": "markdown",
   "metadata": {},
   "source": [
    "Alternatively, everything can be executed from Julia. In other words, import \n",
    "Clapeyron from Julia and run the code directly from there. It seems a bit \n",
    "cleaner to me since we have more direct access to the attributes of Julia \n",
    "objects. The wrappers generated by PyJulia can be a bit meh... and some \n",
    "things are not allowed. For example, if we want to access the critical \n",
    "temperatures of the model1 defined above:"
   ]
  },
  {
   "cell_type": "code",
   "execution_count": 25,
   "metadata": {},
   "outputs": [
    {
     "data": {
      "text/plain": [
       "array([190.564])"
      ]
     },
     "execution_count": 25,
     "metadata": {},
     "output_type": "execute_result"
    }
   ],
   "source": [
    "model1.params.Tc.values"
   ]
  },
  {
   "cell_type": "code",
   "execution_count": 26,
   "metadata": {},
   "outputs": [
    {
     "name": "stdout",
     "output_type": "stream",
     "text": [
      "369 µs ± 19.6 µs per loop (mean ± std. dev. of 7 runs, 1,000 loops each)\n"
     ]
    }
   ],
   "source": [
    "%%timeit\n",
    "cp.volume(model1, 303.15, 101325)"
   ]
  },
  {
   "attachments": {},
   "cell_type": "markdown",
   "metadata": {},
   "source": [
    "You can also execute everything from Julia in the following way:\n",
    "\n",
    "Anything within Main.eval() is valid Julia code as a string."
   ]
  },
  {
   "cell_type": "code",
   "execution_count": 27,
   "metadata": {},
   "outputs": [
    {
     "data": {
      "text/plain": [
       "190.564"
      ]
     },
     "execution_count": 27,
     "metadata": {},
     "output_type": "execute_result"
    }
   ],
   "source": [
    "Main.eval(\"using Clapeyron\")\n",
    "Main.model1 = Main.eval('PR([\"methane\"])')\n",
    "\n",
    "Main.eval(\"model1.params.Tc[1]\")"
   ]
  },
  {
   "cell_type": "code",
   "execution_count": 28,
   "metadata": {},
   "outputs": [
    {
     "name": "stdout",
     "output_type": "stream",
     "text": [
      "150 µs ± 8.28 µs per loop (mean ± std. dev. of 7 runs, 10,000 loops each)\n"
     ]
    }
   ],
   "source": [
    "%%timeit\n",
    "Main.eval(\"volume(model1, 303.15, 101325)\")"
   ]
  },
  {
   "cell_type": "code",
   "execution_count": 29,
   "metadata": {},
   "outputs": [
    {
     "data": {
      "text/plain": [
       "2779.0299445029295"
      ]
     },
     "execution_count": 29,
     "metadata": {},
     "output_type": "execute_result"
    }
   ],
   "source": [
    "Main.eval(\"volume(model1, 303.15, 101325)\")"
   ]
  },
  {
   "attachments": {},
   "cell_type": "markdown",
   "metadata": {},
   "source": [
    "This incurs no overhead at all, and the result obtained is:\n",
    "\n",
    "281 µs ± 24.6 µs per loop (mean ± std. dev. of 7 runs, 1,000 loops each)\n",
    "\n",
    "Note that this result is obtained after running the code several times, so Julia has already started compiling with its JIT.\n",
    "\n",
    "In any case, it takes three times less time compared to not using Main.eval():\n",
    "\n",
    "618 µs ± 45.6 µs per loop (mean ± std. dev. of 7 runs, 1,000 loops each)\n",
    "\n",
    "However, it is still noticeable that calling from Main.eval() is faster."
   ]
  },
  {
   "cell_type": "code",
   "execution_count": 30,
   "metadata": {},
   "outputs": [
    {
     "data": {
      "text/plain": [
       "<PyCall.jlwrap α_function>"
      ]
     },
     "execution_count": 30,
     "metadata": {},
     "output_type": "execute_result"
    }
   ],
   "source": [
    "Main.eval('include(\"../../psrk/julia/mathiascopeman.jl\")')"
   ]
  }
 ],
 "metadata": {
  "kernelspec": {
   "display_name": "psrk",
   "language": "python",
   "name": "python3"
  },
  "language_info": {
   "codemirror_mode": {
    "name": "ipython",
    "version": 3
   },
   "file_extension": ".py",
   "mimetype": "text/x-python",
   "name": "python",
   "nbconvert_exporter": "python",
   "pygments_lexer": "ipython3",
   "version": "3.10.6"
  },
  "orig_nbformat": 4,
  "vscode": {
   "interpreter": {
    "hash": "5af3779ad8dc1b55a7dd8172a1d581f600c186d1a68bc174b0c5adb42468765a"
   }
  }
 },
 "nbformat": 4,
 "nbformat_minor": 2
}
