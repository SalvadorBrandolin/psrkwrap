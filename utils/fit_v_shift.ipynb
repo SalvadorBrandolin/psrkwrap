{
 "cells": [
  {
   "cell_type": "markdown",
   "metadata": {},
   "source": [
    "## Calculation of v shift for Clapeyron's constant translation model\n",
    "\n",
    "from DIPPR2003 105 equation.\n",
    "\n",
    "The substance must be completely loaded in the data base, even the\n",
    "constant volume shift with a value of 0.\n",
    "\n",
    "Once you obtaine the v shift value, you can add it to the data base and run \n",
    "again this notebook. If all was alright the new v shift value given by the \n",
    "notebook should be 0 "
   ]
  },
  {
   "cell_type": "code",
   "execution_count": 5,
   "metadata": {},
   "outputs": [],
   "source": [
    "import numpy as np\n",
    "\n",
    "import psrk"
   ]
  },
  {
   "cell_type": "code",
   "execution_count": 1,
   "metadata": {},
   "outputs": [],
   "source": [
    "# Complete this\n",
    "a, b, c, d = (5.9659e-01, 2.8040e-01, 6.5300e02, 2.9257e-01)\n",
    "\n",
    "substance_name = \"limonene\"\n",
    "\n",
    "# Values for testing\n",
    "temp_min = 198.8\n",
    "temp_max = 653\n",
    "\n",
    "value_min = 6.6753e00 * 1000\n",
    "value_max = 2.1276e00 * 1000\n",
    "\n",
    "# Temperature where to obtain the volume shift value\n",
    "temperature_objetive = 303.15\n",
    "pressure_objetive = 101325"
   ]
  },
  {
   "cell_type": "code",
   "execution_count": 2,
   "metadata": {},
   "outputs": [],
   "source": [
    "def dippr105(temperature):\n",
    "    density = a / (b ** (1 + (1 - temperature / c) ** d))\n",
    "\n",
    "    return density * 1000  # mol/m3\n",
    "\n",
    "\n",
    "def dippr116(temperature):\n",
    "    \"\"\"this one is only for water\"\"\"\n",
    "    a, b, c, d, e = (1.7863e01, 5.8606e01, -9.5396e01, 2.1389e02, -1.4126e02)\n",
    "    tc = 6.47130e02\n",
    "    tr = 1 - temperature / tc\n",
    "\n",
    "    density = (\n",
    "        a + b * tr**0.35 + c * tr ** (2 / 3) + d * tr + e * tr ** (4 / 3)\n",
    "    )\n",
    "    return density * 1000"
   ]
  },
  {
   "cell_type": "code",
   "execution_count": 3,
   "metadata": {},
   "outputs": [
    {
     "name": "stdout",
     "output_type": "stream",
     "text": [
      "6675.34197965119 6675.3\n",
      "2127.639087018545 2127.6000000000004\n"
     ]
    }
   ],
   "source": [
    "eval_min = dippr105(temp_min)\n",
    "eval_max = dippr105(temp_max)\n",
    "\n",
    "print(eval_min, value_min)\n",
    "print(eval_max, value_max)"
   ]
  },
  {
   "cell_type": "code",
   "execution_count": 7,
   "metadata": {},
   "outputs": [
    {
     "name": "stdout",
     "output_type": "stream",
     "text": [
      "PSRK vol = 0.00016294394728413866\n",
      "dippr vol = 0.00016294394728413866\n",
      "volume shift = 0.0\n"
     ]
    }
   ],
   "source": [
    "model = psrk.PSRK(\n",
    "    substances=[substance_name],\n",
    "    pure_temperature=None,\n",
    "    pure_pressure=None,\n",
    "    phase=\"liquid\",\n",
    ")\n",
    "\n",
    "psrk_volume = 1 / (\n",
    "    model.molar_density(pressure_objetive, temperature_objetive, [1]) * 1000\n",
    ")  # m3/mol\n",
    "\n",
    "dippr_volume = 1 / dippr105(temperature_objetive)\n",
    "\n",
    "print(f\"PSRK vol = {psrk_volume}\")\n",
    "print(f\"dippr vol = {dippr_volume}\")\n",
    "\n",
    "print(f\"volume shift = {psrk_volume - dippr_volume}\")"
   ]
  }
 ],
 "metadata": {
  "kernelspec": {
   "display_name": "Python 3 (ipykernel)",
   "language": "python",
   "name": "python3"
  },
  "language_info": {
   "codemirror_mode": {
    "name": "ipython",
    "version": 3
   },
   "file_extension": ".py",
   "mimetype": "text/x-python",
   "name": "python",
   "nbconvert_exporter": "python",
   "pygments_lexer": "ipython3",
   "version": "3.10.6"
  },
  "vscode": {
   "interpreter": {
    "hash": "5af3779ad8dc1b55a7dd8172a1d581f600c186d1a68bc174b0c5adb42468765a"
   }
  }
 },
 "nbformat": 4,
 "nbformat_minor": 2
}
