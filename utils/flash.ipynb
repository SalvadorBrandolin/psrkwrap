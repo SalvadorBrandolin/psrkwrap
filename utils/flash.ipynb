{
 "cells": [
  {
   "cell_type": "code",
   "execution_count": 45,
   "metadata": {},
   "outputs": [],
   "source": [
    "import psrk\n",
    "\n",
    "import numpy as np\n",
    "\n",
    "import pandas as pd"
   ]
  },
  {
   "cell_type": "code",
   "execution_count": 5,
   "metadata": {},
   "outputs": [],
   "source": [
    "model = psrk.PSRK(\n",
    "    substances=[\"limonene\", \"octanoic acid\", \"water\"]\n",
    ")"
   ]
  },
  {
   "cell_type": "code",
   "execution_count": 7,
   "metadata": {},
   "outputs": [
    {
     "data": {
      "text/plain": [
       "array([[7.71250821e-01, 1.92782302e-01, 3.59668773e-02],\n",
       "       [4.67692248e-07, 3.28750601e-05, 9.99966657e-01]])"
      ]
     },
     "execution_count": 7,
     "metadata": {},
     "output_type": "execute_result"
    }
   ],
   "source": [
    "model.tp_flash(101325, 298.15, [0.4, 0.1, 0.5], [0.45, 0.45, 0.1], [0.001, 0.001, 0.99])[0]"
   ]
  },
  {
   "cell_type": "code",
   "execution_count": 13,
   "metadata": {},
   "outputs": [
    {
     "data": {
      "text/plain": [
       "array([[1.03302112e-04, 1.79964574e-01, 1.62667603e-03, 8.18305448e-01],\n",
       "       [5.57261733e-01, 1.83752771e-01, 1.84092107e-01, 7.48933897e-02]])"
      ]
     },
     "execution_count": 13,
     "metadata": {},
     "output_type": "execute_result"
    }
   ],
   "source": [
    "model2 = psrk.PSRK(\n",
    "    substances=[\"limonene\", \"ethanol\", \"octanoic acid\", \"water\"],\n",
    ")\n",
    "\n",
    "model2.tp_flash(101325, 298.15, [0.3, 0.2, 0.1, 0.5], [0.45, 0.01, 0.045, 0.1], [0.001, 0.1, 0.001, 0.99])[0]"
   ]
  },
  {
   "cell_type": "code",
   "execution_count": 33,
   "metadata": {},
   "outputs": [],
   "source": [
    "model2 = psrk.PSRK(\n",
    "    substances=[\"limonene\", \"octanoic acid\", \"ethanol\", \"water\"],\n",
    ")"
   ]
  },
  {
   "cell_type": "code",
   "execution_count": 41,
   "metadata": {},
   "outputs": [
    {
     "name": "stderr",
     "output_type": "stream",
     "text": [
      "┌ Error: model RK{ReidIdeal, MathiasCopemanAlpha, ConstantTranslation, PSRKRule{UNIFAC{BasicIdeal}}}(\"limonene\", \"octanoic acid\", \"ethanol\", \"water\") Failed to converge to a volume root at pressure p = 101325 [Pa], T = 298.15 [K] and compositions = [-0.24137487807126784, -0.10360202269529559, 0.4234078876928115, 0.9215690130737519]\n",
      "└ @ Clapeyron ~/.julia/packages/Clapeyron/viqPU/src/models/cubic/equations.jl:238\n",
      "┌ Error: model RK{ReidIdeal, MathiasCopemanAlpha, ConstantTranslation, PSRKRule{UNIFAC{BasicIdeal}}}(\"limonene\", \"octanoic acid\", \"ethanol\", \"water\") Failed to converge to a volume root at pressure p = 101325 [Pa], T = 298.15 [K] and compositions = [-0.663471713880659, -0.2420658178260198, 0.684077846031215, 1.2214596856754638]\n",
      "└ @ Clapeyron ~/.julia/packages/Clapeyron/viqPU/src/models/cubic/equations.jl:238\n"
     ]
    }
   ],
   "source": [
    "fracciones = np.array(\n",
    "    [\n",
    "        [0.2092,\t0.0428,\t0.0748,\t0.6733],\n",
    "        [0.1973,\t0.0403,\t0.1525,\t0.6099],\n",
    "        [0.1850,\t0.0378,\t0.2331,\t0.5440],\n",
    "        [0.1723,\t0.0352,\t0.3170,\t0.4755],\n",
    "        [0.1590,\t0.0325,\t0.4043,\t0.4043],\n",
    "        [0.1451,\t0.0297,\t0.4951,\t0.3301],\n",
    "        [0.1307,\t0.0267,\t0.5898,\t0.2528],\n",
    "        [0.1157,\t0.0236,\t0.6886,\t0.1721],\n",
    "        [0.0999,\t0.0204,\t0.7917,\t0.0880],\n",
    "    ]\n",
    ")\n",
    "\n",
    "# model2.tp_flash(101325, 298.15, fracciones[0], [0.35, 0.35, 0.01, 0.01], [0.01,0.01, 0.9, 0.1])[0]\n",
    "\n",
    "x_guess = np.array([0.35, 0.35, 0.01, 0.01])\n",
    "y_guess = np.array([0.01, 0.01, 0.9, 0.1])\n",
    "\n",
    "sol_x = np.array([])\n",
    "sol_y = np.array([])\n",
    "\n",
    "for idx, z in enumerate(fracciones):\n",
    "    flash = model2.tp_flash(101325, 298.15, z, x_guess, y_guess)[0]\n",
    "    if idx == 0:\n",
    "        sol_x = flash[0]\n",
    "        sol_y = flash[1]\n",
    "    else:\n",
    "        sol_x = np.vstack((sol_x, flash[0]))\n",
    "        sol_y = np.vstack((sol_y, flash[1]))\n",
    "    x_guess = flash[0]\n",
    "    y_guess = flash[1]"
   ]
  },
  {
   "cell_type": "code",
   "execution_count": 43,
   "metadata": {},
   "outputs": [],
   "source": [
    "for x, y in zip(sol_x, sol_y):\n",
    "    np.allclose(\n",
    "        model2.fugacity_coefficients(101325, 298.15, x),\n",
    "        model2.fugacity_coefficients(101325, 298.15, y),\n",
    "        atol=0.001\n",
    "    )\n"
   ]
  },
  {
   "cell_type": "code",
   "execution_count": 49,
   "metadata": {},
   "outputs": [],
   "source": []
  }
 ],
 "metadata": {
  "kernelspec": {
   "display_name": "psrk",
   "language": "python",
   "name": "python3"
  },
  "language_info": {
   "codemirror_mode": {
    "name": "ipython",
    "version": 3
   },
   "file_extension": ".py",
   "mimetype": "text/x-python",
   "name": "python",
   "nbconvert_exporter": "python",
   "pygments_lexer": "ipython3",
   "version": "3.10.6"
  },
  "orig_nbformat": 4,
  "vscode": {
   "interpreter": {
    "hash": "5af3779ad8dc1b55a7dd8172a1d581f600c186d1a68bc174b0c5adb42468765a"
   }
  }
 },
 "nbformat": 4,
 "nbformat_minor": 2
}
